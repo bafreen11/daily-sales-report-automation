{
 "cells": [
  {
   "cell_type": "code",
   "execution_count": 5,
   "id": "6c9d3e06",
   "metadata": {},
   "outputs": [
    {
     "name": "stdout",
     "output_type": "stream",
     "text": [
      "C:\\Users\\Mohammed Irfan\n"
     ]
    }
   ],
   "source": [
    "import os\n",
    "print(os.getcwd())"
   ]
  },
  {
   "cell_type": "code",
   "execution_count": 25,
   "id": "9575b634",
   "metadata": {},
   "outputs": [
    {
     "data": {
      "text/plain": [
       "['Order ID',\n",
       " 'Customer Name',\n",
       " 'Category',\n",
       " 'Sub Category',\n",
       " 'City',\n",
       " 'Order Date',\n",
       " 'Region',\n",
       " 'Sales',\n",
       " 'Discount',\n",
       " 'Profit',\n",
       " 'State']"
      ]
     },
     "execution_count": 25,
     "metadata": {},
     "output_type": "execute_result"
    }
   ],
   "source": [
    "import pandas as pd\n",
    "from email.message import EmailMessage\n",
    "from datetime import datetime\n",
    "import openpyxl\n",
    "from openpyxl.chart import BarChart, Reference\n",
    "import os\n",
    "\n",
    "# Load CSV\n",
    "df = pd.read_csv('D:\\\\Downloads\\\\Supermart_Grocery_Sales.csv')\n",
    "\n",
    "# See column names\n",
    "df.columns.tolist()"
   ]
  },
  {
   "cell_type": "code",
   "execution_count": 26,
   "id": "5275ac2c",
   "metadata": {},
   "outputs": [
    {
     "data": {
      "text/plain": [
       "['order_id',\n",
       " 'customer_name',\n",
       " 'category',\n",
       " 'sub_category',\n",
       " 'city',\n",
       " 'order_date',\n",
       " 'region',\n",
       " 'sales',\n",
       " 'discount',\n",
       " 'profit',\n",
       " 'state']"
      ]
     },
     "execution_count": 26,
     "metadata": {},
     "output_type": "execute_result"
    }
   ],
   "source": [
    "# Clean column names: lowercase and strip spaces\n",
    "df.columns = df.columns.str.lower().str.replace(' ', '_')\n",
    "df.columns.tolist()  # Re-check column names now"
   ]
  },
  {
   "cell_type": "code",
   "execution_count": 27,
   "id": "4a2e4690",
   "metadata": {},
   "outputs": [
    {
     "data": {
      "text/html": [
       "<div>\n",
       "<style scoped>\n",
       "    .dataframe tbody tr th:only-of-type {\n",
       "        vertical-align: middle;\n",
       "    }\n",
       "\n",
       "    .dataframe tbody tr th {\n",
       "        vertical-align: top;\n",
       "    }\n",
       "\n",
       "    .dataframe thead th {\n",
       "        text-align: right;\n",
       "    }\n",
       "</style>\n",
       "<table border=\"1\" class=\"dataframe\">\n",
       "  <thead>\n",
       "    <tr style=\"text-align: right;\">\n",
       "      <th></th>\n",
       "      <th>order_id</th>\n",
       "      <th>customer_name</th>\n",
       "      <th>category</th>\n",
       "      <th>sub_category</th>\n",
       "      <th>city</th>\n",
       "      <th>order_date</th>\n",
       "      <th>region</th>\n",
       "      <th>sales</th>\n",
       "      <th>discount</th>\n",
       "      <th>profit</th>\n",
       "      <th>state</th>\n",
       "    </tr>\n",
       "  </thead>\n",
       "  <tbody>\n",
       "  </tbody>\n",
       "</table>\n",
       "</div>"
      ],
      "text/plain": [
       "Empty DataFrame\n",
       "Columns: [order_id, customer_name, category, sub_category, city, order_date, region, sales, discount, profit, state]\n",
       "Index: []"
      ]
     },
     "execution_count": 27,
     "metadata": {},
     "output_type": "execute_result"
    }
   ],
   "source": [
    "from datetime import datetime\n",
    "\n",
    "df['order_date'] = pd.to_datetime(df['order_date'], errors='coerce')\n",
    "df = df[df['order_date'].notnull()]\n",
    "\n",
    "today = pd.to_datetime(datetime.now().date())\n",
    "df_today = df[df['order_date'].dt.date == today.date()]\n",
    "df_today.head()"
   ]
  },
  {
   "cell_type": "code",
   "execution_count": 28,
   "id": "560d56c2",
   "metadata": {},
   "outputs": [
    {
     "data": {
      "text/html": [
       "<div>\n",
       "<style scoped>\n",
       "    .dataframe tbody tr th:only-of-type {\n",
       "        vertical-align: middle;\n",
       "    }\n",
       "\n",
       "    .dataframe tbody tr th {\n",
       "        vertical-align: top;\n",
       "    }\n",
       "\n",
       "    .dataframe thead th {\n",
       "        text-align: right;\n",
       "    }\n",
       "</style>\n",
       "<table border=\"1\" class=\"dataframe\">\n",
       "  <thead>\n",
       "    <tr style=\"text-align: right;\">\n",
       "      <th></th>\n",
       "      <th>category</th>\n",
       "      <th>sales</th>\n",
       "      <th>profit</th>\n",
       "    </tr>\n",
       "  </thead>\n",
       "  <tbody>\n",
       "  </tbody>\n",
       "</table>\n",
       "</div>"
      ],
      "text/plain": [
       "Empty DataFrame\n",
       "Columns: [category, sales, profit]\n",
       "Index: []"
      ]
     },
     "execution_count": 28,
     "metadata": {},
     "output_type": "execute_result"
    }
   ],
   "source": [
    "summary_df = df_today.groupby('category')[['sales', 'profit']].sum().reset_index()\n",
    "summary_df"
   ]
  },
  {
   "cell_type": "code",
   "execution_count": 29,
   "id": "c0cc3b0d",
   "metadata": {},
   "outputs": [
    {
     "name": "stdout",
     "output_type": "stream",
     "text": [
      "✅ Old Excel file deleted.\n",
      "✅ New Excel file saved: D:\\Downloads\\today_category_sales_2025-07-10.xlsx\n"
     ]
    }
   ],
   "source": [
    "import os\n",
    "from datetime import datetime\n",
    "\n",
    "# Set today's date\n",
    "today = datetime.now().date()\n",
    "\n",
    "# Define safe path (change if needed)\n",
    "report_path = f'D:\\\\Downloads\\\\today_category_sales_{today}.xlsx'\n",
    "\n",
    "# Step 1: Check if file already exists and try to remove\n",
    "if os.path.exists(report_path):\n",
    "    try:\n",
    "        os.remove(report_path)\n",
    "        print(\"✅ Old Excel file deleted.\")\n",
    "    except PermissionError:\n",
    "        print(\"❌ The file is still open. Please close it in Excel and try again.\")\n",
    "        raise  # Stops execution if file is open\n",
    "\n",
    "# Step 2: Save new Excel file\n",
    "try:\n",
    "    summary_df.to_excel(report_path, index=False)\n",
    "    print(f\"✅ New Excel file saved: {report_path}\")\n",
    "except Exception as e:\n",
    "    print(\"❌ Failed to save Excel file:\", e)"
   ]
  },
  {
   "cell_type": "code",
   "execution_count": 17,
   "id": "09585e87",
   "metadata": {},
   "outputs": [
    {
     "data": {
      "text/plain": [
       "True"
      ]
     },
     "execution_count": 17,
     "metadata": {},
     "output_type": "execute_result"
    }
   ],
   "source": [
    "import os\n",
    "os.path.exists('D:\\\\Downloads')"
   ]
  },
  {
   "cell_type": "code",
   "execution_count": 30,
   "id": "adc1dc78",
   "metadata": {},
   "outputs": [],
   "source": [
    "import smtplib\n",
    "from email.message import EmailMessage\n",
    "import os\n"
   ]
  },
  {
   "cell_type": "code",
   "execution_count": 31,
   "id": "aa93124c",
   "metadata": {},
   "outputs": [
    {
     "name": "stdout",
     "output_type": "stream",
     "text": [
      "📧 Email sent successfully.\n"
     ]
    }
   ],
   "source": [
    "# ---------- 2. Send Email ----------\n",
    "sender_email = 'bafreen11@gmail.com'\n",
    "receiver_email = 'irfan2014.mohammed@gmai.com'  # Change to actual email\n",
    "app_password = 'gdbwohybhxnjfhey'  # Replace with Gmail App Password\n",
    "excel_path = 'D:\\\\Downloads\\\\today_category_sales.xlsx'  # ✅ use actual file path\n",
    "\n",
    "\n",
    "# Create email message\n",
    "msg = EmailMessage()\n",
    "msg['Subject'] = f'Daily Category Sales Report - {today.strftime(\"%Y-%m-%d\")}'\n",
    "msg['From'] = sender_email\n",
    "msg['To'] = receiver_email\n",
    "\n",
    "# Email content\n",
    "msg.set_content(f\"\"\"Hello Manager,\n",
    "\n",
    "Please find attached the daily **Category-wise Sales Report** for {today.strftime(\"%Y-%m-%d\")}.\n",
    "\n",
    "Total categories: {len(summary_df)}\n",
    "Total sales: ₹{summary_df['sales'].sum():,.2f}\n",
    "Total profit: ₹{summary_df['profit'].sum():,.2f}\n",
    "\n",
    "Regards,\n",
    "Sales Automation Bot\n",
    "\"\"\")\n",
    "\n",
    "# Attach Excel report\n",
    "# Define the report file path\n",
    "report_path = f'D:\\\\Downloads\\\\today_category_sales_{datetime.now().date()}.xlsx'\n",
    "\n",
    "with open(report_path, 'rb') as f:\n",
    "    msg.add_attachment(f.read(), maintype='application', subtype='octet-stream',\n",
    "                       filename=report_path.split('\\\\')[-1])\n",
    "\n",
    "# Send via Gmail SMTP\n",
    "with smtplib.SMTP_SSL('smtp.gmail.com', 465) as smtp:\n",
    "    smtp.login(sender_email, app_password)\n",
    "    smtp.send_message(msg)\n",
    "\n",
    "print(\"📧 Email sent successfully.\")"
   ]
  },
  {
   "cell_type": "code",
   "execution_count": 20,
   "id": "5121fcea",
   "metadata": {},
   "outputs": [
    {
     "name": "stdout",
     "output_type": "stream",
     "text": [
      "✅ Old Excel file deleted.\n",
      "✅ New Excel file saved: D:\\Downloads\\today_category_sales_2025-07-10.xlsx\n"
     ]
    }
   ],
   "source": []
  },
  {
   "cell_type": "code",
   "execution_count": 19,
   "id": "7f8663ed",
   "metadata": {},
   "outputs": [],
   "source": [
    "with open(report_path, 'rb') as f:\n",
    "    msg.add_attachment(\n",
    "        f.read(), \n",
    "        maintype='application', \n",
    "        subtype='octet-stream',\n",
    "        filename=os.path.basename(report_path)\n",
    "    )"
   ]
  },
  {
   "cell_type": "code",
   "execution_count": null,
   "id": "11569e85",
   "metadata": {},
   "outputs": [],
   "source": []
  }
 ],
 "metadata": {
  "kernelspec": {
   "display_name": "Python 3 (ipykernel)",
   "language": "python",
   "name": "python3"
  },
  "language_info": {
   "codemirror_mode": {
    "name": "ipython",
    "version": 3
   },
   "file_extension": ".py",
   "mimetype": "text/x-python",
   "name": "python",
   "nbconvert_exporter": "python",
   "pygments_lexer": "ipython3",
   "version": "3.11.5"
  }
 },
 "nbformat": 4,
 "nbformat_minor": 5
}
