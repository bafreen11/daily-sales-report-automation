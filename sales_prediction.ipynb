{
 "cells": [
  {
   "cell_type": "code",
   "execution_count": 1,
   "id": "46560006",
   "metadata": {},
   "outputs": [],
   "source": [
    "import pandas as pd"
   ]
  },
  {
   "cell_type": "code",
   "execution_count": 2,
   "id": "7e443b42",
   "metadata": {},
   "outputs": [],
   "source": [
    "import numpy as np\n",
    "import matplotlib.pyplot as plt\n",
    "import seaborn as sns"
   ]
  },
  {
   "cell_type": "code",
   "execution_count": 3,
   "id": "35078944",
   "metadata": {},
   "outputs": [],
   "source": [
    "df = pd.read_csv('D:\\\\Downloads\\\\Supermart_Grocery_Sales.csv')\n"
   ]
  },
  {
   "cell_type": "code",
   "execution_count": 4,
   "id": "1be876de",
   "metadata": {},
   "outputs": [
    {
     "name": "stdout",
     "output_type": "stream",
     "text": [
      "<class 'pandas.core.frame.DataFrame'>\n",
      "RangeIndex: 9994 entries, 0 to 9993\n",
      "Data columns (total 11 columns):\n",
      " #   Column         Non-Null Count  Dtype  \n",
      "---  ------         --------------  -----  \n",
      " 0   Order ID       9994 non-null   object \n",
      " 1   Customer Name  9994 non-null   object \n",
      " 2   Category       9994 non-null   object \n",
      " 3   Sub Category   9994 non-null   object \n",
      " 4   City           9994 non-null   object \n",
      " 5   Order Date     9994 non-null   object \n",
      " 6   Region         9994 non-null   object \n",
      " 7   Sales          9994 non-null   int64  \n",
      " 8   Discount       9994 non-null   float64\n",
      " 9   Profit         9994 non-null   float64\n",
      " 10  State          9994 non-null   object \n",
      "dtypes: float64(2), int64(1), object(8)\n",
      "memory usage: 859.0+ KB\n"
     ]
    }
   ],
   "source": [
    "df.info()"
   ]
  },
  {
   "cell_type": "code",
   "execution_count": 5,
   "id": "5bfbc28e",
   "metadata": {},
   "outputs": [],
   "source": [
    "# Clean column names\n",
    "df.columns = df.columns.str.lower().str.replace(' ', '_')\n"
   ]
  },
  {
   "cell_type": "code",
   "execution_count": 6,
   "id": "ff75f242",
   "metadata": {},
   "outputs": [],
   "source": [
    "# Convert order_date to datetime\n",
    "df['order_date'] = pd.to_datetime(df['order_date'], errors='coerce', dayfirst=True)\n",
    "\n",
    "# Extract time-based features\n",
    "df['order_month'] = df['order_date'].dt.to_period('M')\n",
    "df['order_year'] = df['order_date'].dt.year\n",
    "df['order_day'] = df['order_date'].dt.day_name()"
   ]
  },
  {
   "cell_type": "code",
   "execution_count": 7,
   "id": "ce6089ce",
   "metadata": {},
   "outputs": [
    {
     "name": "stdout",
     "output_type": "stream",
     "text": [
      "<class 'pandas.core.frame.DataFrame'>\n",
      "RangeIndex: 9994 entries, 0 to 9993\n",
      "Data columns (total 14 columns):\n",
      " #   Column         Non-Null Count  Dtype         \n",
      "---  ------         --------------  -----         \n",
      " 0   order_id       9994 non-null   object        \n",
      " 1   customer_name  9994 non-null   object        \n",
      " 2   category       9994 non-null   object        \n",
      " 3   sub_category   9994 non-null   object        \n",
      " 4   city           9994 non-null   object        \n",
      " 5   order_date     4042 non-null   datetime64[ns]\n",
      " 6   region         9994 non-null   object        \n",
      " 7   sales          9994 non-null   int64         \n",
      " 8   discount       9994 non-null   float64       \n",
      " 9   profit         9994 non-null   float64       \n",
      " 10  state          9994 non-null   object        \n",
      " 11  order_month    4042 non-null   period[M]     \n",
      " 12  order_year     4042 non-null   float64       \n",
      " 13  order_day      4042 non-null   object        \n",
      "dtypes: datetime64[ns](1), float64(3), int64(1), object(8), period[M](1)\n",
      "memory usage: 1.1+ MB\n"
     ]
    }
   ],
   "source": [
    "df.info()"
   ]
  },
  {
   "cell_type": "code",
   "execution_count": 9,
   "id": "90ed8802",
   "metadata": {},
   "outputs": [],
   "source": [
    "#handling missing values\n",
    "\n",
    "df = df[df['order_date'].notnull()]"
   ]
  },
  {
   "cell_type": "code",
   "execution_count": 10,
   "id": "4820ba65",
   "metadata": {},
   "outputs": [
    {
     "name": "stdout",
     "output_type": "stream",
     "text": [
      "<class 'pandas.core.frame.DataFrame'>\n",
      "Index: 4042 entries, 0 to 9991\n",
      "Data columns (total 14 columns):\n",
      " #   Column         Non-Null Count  Dtype         \n",
      "---  ------         --------------  -----         \n",
      " 0   order_id       4042 non-null   object        \n",
      " 1   customer_name  4042 non-null   object        \n",
      " 2   category       4042 non-null   object        \n",
      " 3   sub_category   4042 non-null   object        \n",
      " 4   city           4042 non-null   object        \n",
      " 5   order_date     4042 non-null   datetime64[ns]\n",
      " 6   region         4042 non-null   object        \n",
      " 7   sales          4042 non-null   int64         \n",
      " 8   discount       4042 non-null   float64       \n",
      " 9   profit         4042 non-null   float64       \n",
      " 10  state          4042 non-null   object        \n",
      " 11  order_month    4042 non-null   period[M]     \n",
      " 12  order_year     4042 non-null   float64       \n",
      " 13  order_day      4042 non-null   object        \n",
      "dtypes: datetime64[ns](1), float64(3), int64(1), object(8), period[M](1)\n",
      "memory usage: 473.7+ KB\n"
     ]
    }
   ],
   "source": [
    "df.info()"
   ]
  },
  {
   "cell_type": "code",
   "execution_count": 59,
   "id": "14ec668b",
   "metadata": {},
   "outputs": [],
   "source": [
    "df = df.drop(columns=['order_id', 'customer_name'])"
   ]
  },
  {
   "cell_type": "code",
   "execution_count": 60,
   "id": "7c1a716f",
   "metadata": {},
   "outputs": [
    {
     "name": "stdout",
     "output_type": "stream",
     "text": [
      "<class 'pandas.core.frame.DataFrame'>\n",
      "RangeIndex: 9994 entries, 0 to 9993\n",
      "Data columns (total 12 columns):\n",
      " #   Column        Non-Null Count  Dtype         \n",
      "---  ------        --------------  -----         \n",
      " 0   category      9994 non-null   object        \n",
      " 1   sub_category  9994 non-null   object        \n",
      " 2   city          9994 non-null   object        \n",
      " 3   order_date    4042 non-null   datetime64[ns]\n",
      " 4   region        9994 non-null   object        \n",
      " 5   sales         9994 non-null   int64         \n",
      " 6   discount      9994 non-null   float64       \n",
      " 7   profit        9994 non-null   float64       \n",
      " 8   state         9994 non-null   object        \n",
      " 9   order_month   4042 non-null   period[M]     \n",
      " 10  order_year    4042 non-null   float64       \n",
      " 11  order_day     4042 non-null   object        \n",
      "dtypes: datetime64[ns](1), float64(3), int64(1), object(6), period[M](1)\n",
      "memory usage: 937.1+ KB\n"
     ]
    }
   ],
   "source": [
    "df.info()"
   ]
  },
  {
   "cell_type": "code",
   "execution_count": 8,
   "id": "b2776a81",
   "metadata": {},
   "outputs": [],
   "source": [
    "df['order_dayofweek'] = df['order_date'].dt.dayofweek\n",
    "df['order_month'] = df['order_date'].dt.month\n",
    "df['order_year'] = df['order_date'].dt.year"
   ]
  },
  {
   "cell_type": "code",
   "execution_count": 9,
   "id": "1fae4e94",
   "metadata": {},
   "outputs": [],
   "source": [
    "df = df.drop(columns=['order_month', 'order_year', 'order_day'])\n"
   ]
  },
  {
   "cell_type": "code",
   "execution_count": 10,
   "id": "1de7efe9",
   "metadata": {},
   "outputs": [],
   "source": [
    "df = pd.get_dummies(df, columns=['category', 'sub_category', 'city', 'region', 'state'], drop_first=True)"
   ]
  },
  {
   "cell_type": "code",
   "execution_count": 64,
   "id": "4a8181de",
   "metadata": {},
   "outputs": [
    {
     "name": "stdout",
     "output_type": "stream",
     "text": [
      "<class 'pandas.core.frame.DataFrame'>\n",
      "RangeIndex: 9994 entries, 0 to 9993\n",
      "Data columns (total 60 columns):\n",
      " #   Column                           Non-Null Count  Dtype         \n",
      "---  ------                           --------------  -----         \n",
      " 0   order_date                       4042 non-null   datetime64[ns]\n",
      " 1   sales                            9994 non-null   int64         \n",
      " 2   discount                         9994 non-null   float64       \n",
      " 3   profit                           9994 non-null   float64       \n",
      " 4   order_dayofweek                  4042 non-null   float64       \n",
      " 5   category_Beverages               9994 non-null   bool          \n",
      " 6   category_Eggs, Meat & Fish       9994 non-null   bool          \n",
      " 7   category_Food Grains             9994 non-null   bool          \n",
      " 8   category_Fruits & Veggies        9994 non-null   bool          \n",
      " 9   category_Oil & Masala            9994 non-null   bool          \n",
      " 10  category_Snacks                  9994 non-null   bool          \n",
      " 11  sub_category_Biscuits            9994 non-null   bool          \n",
      " 12  sub_category_Breads & Buns       9994 non-null   bool          \n",
      " 13  sub_category_Cakes               9994 non-null   bool          \n",
      " 14  sub_category_Chicken             9994 non-null   bool          \n",
      " 15  sub_category_Chocolates          9994 non-null   bool          \n",
      " 16  sub_category_Cookies             9994 non-null   bool          \n",
      " 17  sub_category_Dals & Pulses       9994 non-null   bool          \n",
      " 18  sub_category_Edible Oil & Ghee   9994 non-null   bool          \n",
      " 19  sub_category_Eggs                9994 non-null   bool          \n",
      " 20  sub_category_Fish                9994 non-null   bool          \n",
      " 21  sub_category_Fresh Fruits        9994 non-null   bool          \n",
      " 22  sub_category_Fresh Vegetables    9994 non-null   bool          \n",
      " 23  sub_category_Health Drinks       9994 non-null   bool          \n",
      " 24  sub_category_Masalas             9994 non-null   bool          \n",
      " 25  sub_category_Mutton              9994 non-null   bool          \n",
      " 26  sub_category_Noodles             9994 non-null   bool          \n",
      " 27  sub_category_Organic Fruits      9994 non-null   bool          \n",
      " 28  sub_category_Organic Staples     9994 non-null   bool          \n",
      " 29  sub_category_Organic Vegetables  9994 non-null   bool          \n",
      " 30  sub_category_Rice                9994 non-null   bool          \n",
      " 31  sub_category_Soft Drinks         9994 non-null   bool          \n",
      " 32  sub_category_Spices              9994 non-null   bool          \n",
      " 33  city_Chennai                     9994 non-null   bool          \n",
      " 34  city_Coimbatore                  9994 non-null   bool          \n",
      " 35  city_Cumbum                      9994 non-null   bool          \n",
      " 36  city_Dharmapuri                  9994 non-null   bool          \n",
      " 37  city_Dindigul                    9994 non-null   bool          \n",
      " 38  city_Kanyakumari                 9994 non-null   bool          \n",
      " 39  city_Karur                       9994 non-null   bool          \n",
      " 40  city_Krishnagiri                 9994 non-null   bool          \n",
      " 41  city_Madurai                     9994 non-null   bool          \n",
      " 42  city_Nagercoil                   9994 non-null   bool          \n",
      " 43  city_Namakkal                    9994 non-null   bool          \n",
      " 44  city_Ooty                        9994 non-null   bool          \n",
      " 45  city_Perambalur                  9994 non-null   bool          \n",
      " 46  city_Pudukottai                  9994 non-null   bool          \n",
      " 47  city_Ramanadhapuram              9994 non-null   bool          \n",
      " 48  city_Salem                       9994 non-null   bool          \n",
      " 49  city_Tenkasi                     9994 non-null   bool          \n",
      " 50  city_Theni                       9994 non-null   bool          \n",
      " 51  city_Tirunelveli                 9994 non-null   bool          \n",
      " 52  city_Trichy                      9994 non-null   bool          \n",
      " 53  city_Vellore                     9994 non-null   bool          \n",
      " 54  city_Viluppuram                  9994 non-null   bool          \n",
      " 55  city_Virudhunagar                9994 non-null   bool          \n",
      " 56  region_East                      9994 non-null   bool          \n",
      " 57  region_North                     9994 non-null   bool          \n",
      " 58  region_South                     9994 non-null   bool          \n",
      " 59  region_West                      9994 non-null   bool          \n",
      "dtypes: bool(55), datetime64[ns](1), float64(3), int64(1)\n",
      "memory usage: 927.3 KB\n"
     ]
    }
   ],
   "source": [
    "df.info()"
   ]
  },
  {
   "cell_type": "code",
   "execution_count": 11,
   "id": "fb69fa7f",
   "metadata": {},
   "outputs": [],
   "source": [
    "X = df.drop('sales', axis=1)\n",
    "y = df['sales']"
   ]
  },
  {
   "cell_type": "code",
   "execution_count": 12,
   "id": "68961c14",
   "metadata": {},
   "outputs": [],
   "source": [
    "from sklearn.model_selection import train_test_split\n",
    "\n",
    "X_train, X_test, y_train, y_test = train_test_split(X, y, test_size=0.2, random_state=42)\n"
   ]
  },
  {
   "cell_type": "code",
   "execution_count": 13,
   "id": "c5197741",
   "metadata": {},
   "outputs": [
    {
     "data": {
      "text/plain": [
       "bool              55\n",
       "float64            3\n",
       "object             2\n",
       "datetime64[ns]     1\n",
       "Name: count, dtype: int64"
      ]
     },
     "execution_count": 13,
     "metadata": {},
     "output_type": "execute_result"
    }
   ],
   "source": [
    "X_train.dtypes.value_counts()"
   ]
  },
  {
   "cell_type": "code",
   "execution_count": 14,
   "id": "92d33b70",
   "metadata": {},
   "outputs": [],
   "source": [
    "X_train = X_train.drop(columns=['order_date'], errors='ignore')\n",
    "X_test = X_test.drop(columns=['order_date'], errors='ignore')"
   ]
  },
  {
   "cell_type": "code",
   "execution_count": 18,
   "id": "b6095a46",
   "metadata": {},
   "outputs": [],
   "source": [
    "from sklearn.ensemble import RandomForestRegressor\n",
    "from sklearn.model_selection import train_test_split"
   ]
  },
  {
   "cell_type": "code",
   "execution_count": 26,
   "id": "20c78e9a",
   "metadata": {},
   "outputs": [],
   "source": [
    "# Drop columns with non-numeric data\n",
    "X_train = X_train.select_dtypes(include=['int64', 'float64'])\n"
   ]
  },
  {
   "cell_type": "code",
   "execution_count": 27,
   "id": "9fa3e514",
   "metadata": {},
   "outputs": [],
   "source": [
    "# Drop or fill missing values\n",
    "X_train = X_train.dropna()\n",
    "y_train = y_train.loc[X_train.index]"
   ]
  },
  {
   "cell_type": "code",
   "execution_count": 19,
   "id": "c9972809",
   "metadata": {},
   "outputs": [],
   "source": [
    "X_train, X_test, y_train, y_test = train_test_split(X, y, test_size=0.2, random_state=42)"
   ]
  },
  {
   "cell_type": "code",
   "execution_count": 28,
   "id": "0f385ea8",
   "metadata": {},
   "outputs": [
    {
     "data": {
      "text/html": [
       "<style>#sk-container-id-1 {color: black;}#sk-container-id-1 pre{padding: 0;}#sk-container-id-1 div.sk-toggleable {background-color: white;}#sk-container-id-1 label.sk-toggleable__label {cursor: pointer;display: block;width: 100%;margin-bottom: 0;padding: 0.3em;box-sizing: border-box;text-align: center;}#sk-container-id-1 label.sk-toggleable__label-arrow:before {content: \"▸\";float: left;margin-right: 0.25em;color: #696969;}#sk-container-id-1 label.sk-toggleable__label-arrow:hover:before {color: black;}#sk-container-id-1 div.sk-estimator:hover label.sk-toggleable__label-arrow:before {color: black;}#sk-container-id-1 div.sk-toggleable__content {max-height: 0;max-width: 0;overflow: hidden;text-align: left;background-color: #f0f8ff;}#sk-container-id-1 div.sk-toggleable__content pre {margin: 0.2em;color: black;border-radius: 0.25em;background-color: #f0f8ff;}#sk-container-id-1 input.sk-toggleable__control:checked~div.sk-toggleable__content {max-height: 200px;max-width: 100%;overflow: auto;}#sk-container-id-1 input.sk-toggleable__control:checked~label.sk-toggleable__label-arrow:before {content: \"▾\";}#sk-container-id-1 div.sk-estimator input.sk-toggleable__control:checked~label.sk-toggleable__label {background-color: #d4ebff;}#sk-container-id-1 div.sk-label input.sk-toggleable__control:checked~label.sk-toggleable__label {background-color: #d4ebff;}#sk-container-id-1 input.sk-hidden--visually {border: 0;clip: rect(1px 1px 1px 1px);clip: rect(1px, 1px, 1px, 1px);height: 1px;margin: -1px;overflow: hidden;padding: 0;position: absolute;width: 1px;}#sk-container-id-1 div.sk-estimator {font-family: monospace;background-color: #f0f8ff;border: 1px dotted black;border-radius: 0.25em;box-sizing: border-box;margin-bottom: 0.5em;}#sk-container-id-1 div.sk-estimator:hover {background-color: #d4ebff;}#sk-container-id-1 div.sk-parallel-item::after {content: \"\";width: 100%;border-bottom: 1px solid gray;flex-grow: 1;}#sk-container-id-1 div.sk-label:hover label.sk-toggleable__label {background-color: #d4ebff;}#sk-container-id-1 div.sk-serial::before {content: \"\";position: absolute;border-left: 1px solid gray;box-sizing: border-box;top: 0;bottom: 0;left: 50%;z-index: 0;}#sk-container-id-1 div.sk-serial {display: flex;flex-direction: column;align-items: center;background-color: white;padding-right: 0.2em;padding-left: 0.2em;position: relative;}#sk-container-id-1 div.sk-item {position: relative;z-index: 1;}#sk-container-id-1 div.sk-parallel {display: flex;align-items: stretch;justify-content: center;background-color: white;position: relative;}#sk-container-id-1 div.sk-item::before, #sk-container-id-1 div.sk-parallel-item::before {content: \"\";position: absolute;border-left: 1px solid gray;box-sizing: border-box;top: 0;bottom: 0;left: 50%;z-index: -1;}#sk-container-id-1 div.sk-parallel-item {display: flex;flex-direction: column;z-index: 1;position: relative;background-color: white;}#sk-container-id-1 div.sk-parallel-item:first-child::after {align-self: flex-end;width: 50%;}#sk-container-id-1 div.sk-parallel-item:last-child::after {align-self: flex-start;width: 50%;}#sk-container-id-1 div.sk-parallel-item:only-child::after {width: 0;}#sk-container-id-1 div.sk-dashed-wrapped {border: 1px dashed gray;margin: 0 0.4em 0.5em 0.4em;box-sizing: border-box;padding-bottom: 0.4em;background-color: white;}#sk-container-id-1 div.sk-label label {font-family: monospace;font-weight: bold;display: inline-block;line-height: 1.2em;}#sk-container-id-1 div.sk-label-container {text-align: center;}#sk-container-id-1 div.sk-container {/* jupyter's `normalize.less` sets `[hidden] { display: none; }` but bootstrap.min.css set `[hidden] { display: none !important; }` so we also need the `!important` here to be able to override the default hidden behavior on the sphinx rendered scikit-learn.org. See: https://github.com/scikit-learn/scikit-learn/issues/21755 */display: inline-block !important;position: relative;}#sk-container-id-1 div.sk-text-repr-fallback {display: none;}</style><div id=\"sk-container-id-1\" class=\"sk-top-container\"><div class=\"sk-text-repr-fallback\"><pre>RandomForestRegressor(random_state=42)</pre><b>In a Jupyter environment, please rerun this cell to show the HTML representation or trust the notebook. <br />On GitHub, the HTML representation is unable to render, please try loading this page with nbviewer.org.</b></div><div class=\"sk-container\" hidden><div class=\"sk-item\"><div class=\"sk-estimator sk-toggleable\"><input class=\"sk-toggleable__control sk-hidden--visually\" id=\"sk-estimator-id-1\" type=\"checkbox\" checked><label for=\"sk-estimator-id-1\" class=\"sk-toggleable__label sk-toggleable__label-arrow\">RandomForestRegressor</label><div class=\"sk-toggleable__content\"><pre>RandomForestRegressor(random_state=42)</pre></div></div></div></div></div>"
      ],
      "text/plain": [
       "RandomForestRegressor(random_state=42)"
      ]
     },
     "execution_count": 28,
     "metadata": {},
     "output_type": "execute_result"
    }
   ],
   "source": [
    "# Initialize and train the model\n",
    "model = RandomForestRegressor(n_estimators=100, random_state=42)\n",
    "model.fit(X_train, y_train)"
   ]
  },
  {
   "cell_type": "code",
   "execution_count": 21,
   "id": "74302bf5",
   "metadata": {},
   "outputs": [
    {
     "name": "stdout",
     "output_type": "stream",
     "text": [
      "(7995, 61)\n"
     ]
    }
   ],
   "source": [
    "print(X_train.shape)"
   ]
  },
  {
   "cell_type": "code",
   "execution_count": 22,
   "id": "ca231fc0",
   "metadata": {},
   "outputs": [
    {
     "name": "stdout",
     "output_type": "stream",
     "text": [
      "(7995,)\n"
     ]
    }
   ],
   "source": [
    "print(y_train.shape)"
   ]
  },
  {
   "cell_type": "code",
   "execution_count": 23,
   "id": "a9a06f89",
   "metadata": {},
   "outputs": [
    {
     "name": "stdout",
     "output_type": "stream",
     "text": [
      "9554\n",
      "0\n"
     ]
    }
   ],
   "source": [
    "print(X_train.isnull().sum().sum())\n",
    "print(y_train.isnull().sum())"
   ]
  },
  {
   "cell_type": "code",
   "execution_count": 31,
   "id": "07c20788",
   "metadata": {},
   "outputs": [],
   "source": [
    "X_test = X_test.dropna()"
   ]
  },
  {
   "cell_type": "code",
   "execution_count": 33,
   "id": "abce9c88",
   "metadata": {},
   "outputs": [],
   "source": [
    "# Assuming you already did this for training:\n",
    "imputer = SimpleImputer(strategy='mean')\n",
    "X_train_imputed = imputer.fit_transform(X_train)"
   ]
  },
  {
   "cell_type": "code",
   "execution_count": 35,
   "id": "cebfbc6f",
   "metadata": {},
   "outputs": [
    {
     "name": "stdout",
     "output_type": "stream",
     "text": [
      "['discount', 'profit', 'order_dayofweek']\n",
      "['order_id', 'customer_name', 'order_date', 'discount', 'profit', 'order_dayofweek', 'category_Beverages', 'category_Eggs, Meat & Fish', 'category_Food Grains', 'category_Fruits & Veggies', 'category_Oil & Masala', 'category_Snacks', 'sub_category_Biscuits', 'sub_category_Breads & Buns', 'sub_category_Cakes', 'sub_category_Chicken', 'sub_category_Chocolates', 'sub_category_Cookies', 'sub_category_Dals & Pulses', 'sub_category_Edible Oil & Ghee', 'sub_category_Eggs', 'sub_category_Fish', 'sub_category_Fresh Fruits', 'sub_category_Fresh Vegetables', 'sub_category_Health Drinks', 'sub_category_Masalas', 'sub_category_Mutton', 'sub_category_Noodles', 'sub_category_Organic Fruits', 'sub_category_Organic Staples', 'sub_category_Organic Vegetables', 'sub_category_Rice', 'sub_category_Soft Drinks', 'sub_category_Spices', 'city_Chennai', 'city_Coimbatore', 'city_Cumbum', 'city_Dharmapuri', 'city_Dindigul', 'city_Kanyakumari', 'city_Karur', 'city_Krishnagiri', 'city_Madurai', 'city_Nagercoil', 'city_Namakkal', 'city_Ooty', 'city_Perambalur', 'city_Pudukottai', 'city_Ramanadhapuram', 'city_Salem', 'city_Tenkasi', 'city_Theni', 'city_Tirunelveli', 'city_Trichy', 'city_Vellore', 'city_Viluppuram', 'city_Virudhunagar', 'region_East', 'region_North', 'region_South', 'region_West']\n"
     ]
    }
   ],
   "source": [
    "print(X_train.columns.tolist())\n",
    "print(X_test.columns.tolist())"
   ]
  },
  {
   "cell_type": "code",
   "execution_count": 37,
   "id": "afe8cfed",
   "metadata": {},
   "outputs": [],
   "source": [
    "\n",
    "X_test_selected = X_test[['discount', 'profit', 'order_dayofweek']]\n"
   ]
  },
  {
   "cell_type": "code",
   "execution_count": 38,
   "id": "6f4b139a",
   "metadata": {},
   "outputs": [],
   "source": [
    "# Step 2: Impute missing values (if needed)\n",
    "X_test_imputed = pd.DataFrame(imputer.transform(X_test_selected), columns=['discount', 'profit', 'order_dayofweek'])\n"
   ]
  },
  {
   "cell_type": "code",
   "execution_count": 42,
   "id": "06eb2951",
   "metadata": {},
   "outputs": [],
   "source": [
    "# Step 3: Predict\n",
    "y_pred = model.predict(X_test_imputed)"
   ]
  },
  {
   "cell_type": "code",
   "execution_count": 44,
   "id": "90785b85",
   "metadata": {},
   "outputs": [
    {
     "name": "stdout",
     "output_type": "stream",
     "text": [
      "1999\n",
      "824\n"
     ]
    }
   ],
   "source": [
    "print(len(y_test))\n",
    "print(len(y_pred))"
   ]
  },
  {
   "cell_type": "code",
   "execution_count": null,
   "id": "0c68d8fa",
   "metadata": {},
   "outputs": [],
   "source": []
  },
  {
   "cell_type": "code",
   "execution_count": 43,
   "id": "2456966d",
   "metadata": {},
   "outputs": [
    {
     "ename": "ValueError",
     "evalue": "All arrays must be of the same length",
     "output_type": "error",
     "traceback": [
      "\u001b[1;31m---------------------------------------------------------------------------\u001b[0m",
      "\u001b[1;31mValueError\u001b[0m                                Traceback (most recent call last)",
      "Cell \u001b[1;32mIn[43], line 3\u001b[0m\n\u001b[0;32m      1\u001b[0m \u001b[38;5;28;01mimport\u001b[39;00m \u001b[38;5;21;01mpandas\u001b[39;00m \u001b[38;5;28;01mas\u001b[39;00m \u001b[38;5;21;01mpd\u001b[39;00m\n\u001b[1;32m----> 3\u001b[0m results \u001b[38;5;241m=\u001b[39m pd\u001b[38;5;241m.\u001b[39mDataFrame({\n\u001b[0;32m      4\u001b[0m     \u001b[38;5;124m'\u001b[39m\u001b[38;5;124mActual Sales\u001b[39m\u001b[38;5;124m'\u001b[39m: y_test\u001b[38;5;241m.\u001b[39mvalues,\n\u001b[0;32m      5\u001b[0m     \u001b[38;5;124m'\u001b[39m\u001b[38;5;124mPredicted Sales\u001b[39m\u001b[38;5;124m'\u001b[39m: y_pred\n\u001b[0;32m      6\u001b[0m })\n\u001b[0;32m      8\u001b[0m results\u001b[38;5;241m.\u001b[39mhead(\u001b[38;5;241m10\u001b[39m)\n",
      "File \u001b[1;32mE:\\Anaconda\\Lib\\site-packages\\pandas\\core\\frame.py:709\u001b[0m, in \u001b[0;36mDataFrame.__init__\u001b[1;34m(self, data, index, columns, dtype, copy)\u001b[0m\n\u001b[0;32m    703\u001b[0m     mgr \u001b[38;5;241m=\u001b[39m \u001b[38;5;28mself\u001b[39m\u001b[38;5;241m.\u001b[39m_init_mgr(\n\u001b[0;32m    704\u001b[0m         data, axes\u001b[38;5;241m=\u001b[39m{\u001b[38;5;124m\"\u001b[39m\u001b[38;5;124mindex\u001b[39m\u001b[38;5;124m\"\u001b[39m: index, \u001b[38;5;124m\"\u001b[39m\u001b[38;5;124mcolumns\u001b[39m\u001b[38;5;124m\"\u001b[39m: columns}, dtype\u001b[38;5;241m=\u001b[39mdtype, copy\u001b[38;5;241m=\u001b[39mcopy\n\u001b[0;32m    705\u001b[0m     )\n\u001b[0;32m    707\u001b[0m \u001b[38;5;28;01melif\u001b[39;00m \u001b[38;5;28misinstance\u001b[39m(data, \u001b[38;5;28mdict\u001b[39m):\n\u001b[0;32m    708\u001b[0m     \u001b[38;5;66;03m# GH#38939 de facto copy defaults to False only in non-dict cases\u001b[39;00m\n\u001b[1;32m--> 709\u001b[0m     mgr \u001b[38;5;241m=\u001b[39m dict_to_mgr(data, index, columns, dtype\u001b[38;5;241m=\u001b[39mdtype, copy\u001b[38;5;241m=\u001b[39mcopy, typ\u001b[38;5;241m=\u001b[39mmanager)\n\u001b[0;32m    710\u001b[0m \u001b[38;5;28;01melif\u001b[39;00m \u001b[38;5;28misinstance\u001b[39m(data, ma\u001b[38;5;241m.\u001b[39mMaskedArray):\n\u001b[0;32m    711\u001b[0m     \u001b[38;5;28;01mfrom\u001b[39;00m \u001b[38;5;21;01mnumpy\u001b[39;00m\u001b[38;5;21;01m.\u001b[39;00m\u001b[38;5;21;01mma\u001b[39;00m \u001b[38;5;28;01mimport\u001b[39;00m mrecords\n",
      "File \u001b[1;32mE:\\Anaconda\\Lib\\site-packages\\pandas\\core\\internals\\construction.py:481\u001b[0m, in \u001b[0;36mdict_to_mgr\u001b[1;34m(data, index, columns, dtype, typ, copy)\u001b[0m\n\u001b[0;32m    477\u001b[0m     \u001b[38;5;28;01melse\u001b[39;00m:\n\u001b[0;32m    478\u001b[0m         \u001b[38;5;66;03m# dtype check to exclude e.g. range objects, scalars\u001b[39;00m\n\u001b[0;32m    479\u001b[0m         arrays \u001b[38;5;241m=\u001b[39m [x\u001b[38;5;241m.\u001b[39mcopy() \u001b[38;5;28;01mif\u001b[39;00m \u001b[38;5;28mhasattr\u001b[39m(x, \u001b[38;5;124m\"\u001b[39m\u001b[38;5;124mdtype\u001b[39m\u001b[38;5;124m\"\u001b[39m) \u001b[38;5;28;01melse\u001b[39;00m x \u001b[38;5;28;01mfor\u001b[39;00m x \u001b[38;5;129;01min\u001b[39;00m arrays]\n\u001b[1;32m--> 481\u001b[0m \u001b[38;5;28;01mreturn\u001b[39;00m arrays_to_mgr(arrays, columns, index, dtype\u001b[38;5;241m=\u001b[39mdtype, typ\u001b[38;5;241m=\u001b[39mtyp, consolidate\u001b[38;5;241m=\u001b[39mcopy)\n",
      "File \u001b[1;32mE:\\Anaconda\\Lib\\site-packages\\pandas\\core\\internals\\construction.py:115\u001b[0m, in \u001b[0;36marrays_to_mgr\u001b[1;34m(arrays, columns, index, dtype, verify_integrity, typ, consolidate)\u001b[0m\n\u001b[0;32m    112\u001b[0m \u001b[38;5;28;01mif\u001b[39;00m verify_integrity:\n\u001b[0;32m    113\u001b[0m     \u001b[38;5;66;03m# figure out the index, if necessary\u001b[39;00m\n\u001b[0;32m    114\u001b[0m     \u001b[38;5;28;01mif\u001b[39;00m index \u001b[38;5;129;01mis\u001b[39;00m \u001b[38;5;28;01mNone\u001b[39;00m:\n\u001b[1;32m--> 115\u001b[0m         index \u001b[38;5;241m=\u001b[39m _extract_index(arrays)\n\u001b[0;32m    116\u001b[0m     \u001b[38;5;28;01melse\u001b[39;00m:\n\u001b[0;32m    117\u001b[0m         index \u001b[38;5;241m=\u001b[39m ensure_index(index)\n",
      "File \u001b[1;32mE:\\Anaconda\\Lib\\site-packages\\pandas\\core\\internals\\construction.py:655\u001b[0m, in \u001b[0;36m_extract_index\u001b[1;34m(data)\u001b[0m\n\u001b[0;32m    653\u001b[0m lengths \u001b[38;5;241m=\u001b[39m \u001b[38;5;28mlist\u001b[39m(\u001b[38;5;28mset\u001b[39m(raw_lengths))\n\u001b[0;32m    654\u001b[0m \u001b[38;5;28;01mif\u001b[39;00m \u001b[38;5;28mlen\u001b[39m(lengths) \u001b[38;5;241m>\u001b[39m \u001b[38;5;241m1\u001b[39m:\n\u001b[1;32m--> 655\u001b[0m     \u001b[38;5;28;01mraise\u001b[39;00m \u001b[38;5;167;01mValueError\u001b[39;00m(\u001b[38;5;124m\"\u001b[39m\u001b[38;5;124mAll arrays must be of the same length\u001b[39m\u001b[38;5;124m\"\u001b[39m)\n\u001b[0;32m    657\u001b[0m \u001b[38;5;28;01mif\u001b[39;00m have_dicts:\n\u001b[0;32m    658\u001b[0m     \u001b[38;5;28;01mraise\u001b[39;00m \u001b[38;5;167;01mValueError\u001b[39;00m(\n\u001b[0;32m    659\u001b[0m         \u001b[38;5;124m\"\u001b[39m\u001b[38;5;124mMixing dicts with non-Series may lead to ambiguous ordering.\u001b[39m\u001b[38;5;124m\"\u001b[39m\n\u001b[0;32m    660\u001b[0m     )\n",
      "\u001b[1;31mValueError\u001b[0m: All arrays must be of the same length"
     ]
    }
   ],
   "source": [
    "import pandas as pd\n",
    "\n",
    "results = pd.DataFrame({\n",
    "    'Actual Sales': y_test.values,\n",
    "    'Predicted Sales': y_pred\n",
    "})\n",
    "\n",
    "results.head(10)  # Show first 10 rows"
   ]
  },
  {
   "cell_type": "code",
   "execution_count": 26,
   "id": "9731a3da",
   "metadata": {},
   "outputs": [
    {
     "data": {
      "text/html": [
       "<div>\n",
       "<style scoped>\n",
       "    .dataframe tbody tr th:only-of-type {\n",
       "        vertical-align: middle;\n",
       "    }\n",
       "\n",
       "    .dataframe tbody tr th {\n",
       "        vertical-align: top;\n",
       "    }\n",
       "\n",
       "    .dataframe thead th {\n",
       "        text-align: right;\n",
       "    }\n",
       "</style>\n",
       "<table border=\"1\" class=\"dataframe\">\n",
       "  <thead>\n",
       "    <tr style=\"text-align: right;\">\n",
       "      <th></th>\n",
       "      <th>discount</th>\n",
       "      <th>profit</th>\n",
       "      <th>order_dayofweek</th>\n",
       "      <th>category_Beverages</th>\n",
       "      <th>category_Eggs, Meat &amp; Fish</th>\n",
       "      <th>category_Food Grains</th>\n",
       "      <th>category_Fruits &amp; Veggies</th>\n",
       "      <th>category_Oil &amp; Masala</th>\n",
       "      <th>category_Snacks</th>\n",
       "      <th>sub_category_Biscuits</th>\n",
       "      <th>...</th>\n",
       "      <th>city_Trichy</th>\n",
       "      <th>city_Vellore</th>\n",
       "      <th>city_Viluppuram</th>\n",
       "      <th>city_Virudhunagar</th>\n",
       "      <th>region_East</th>\n",
       "      <th>region_North</th>\n",
       "      <th>region_South</th>\n",
       "      <th>region_West</th>\n",
       "      <th>Actual Sales</th>\n",
       "      <th>Predicted Sales</th>\n",
       "    </tr>\n",
       "  </thead>\n",
       "  <tbody>\n",
       "    <tr>\n",
       "      <th>0</th>\n",
       "      <td>0.30</td>\n",
       "      <td>279.02</td>\n",
       "      <td>2</td>\n",
       "      <td>False</td>\n",
       "      <td>False</td>\n",
       "      <td>False</td>\n",
       "      <td>False</td>\n",
       "      <td>False</td>\n",
       "      <td>False</td>\n",
       "      <td>True</td>\n",
       "      <td>...</td>\n",
       "      <td>False</td>\n",
       "      <td>False</td>\n",
       "      <td>False</td>\n",
       "      <td>False</td>\n",
       "      <td>True</td>\n",
       "      <td>False</td>\n",
       "      <td>False</td>\n",
       "      <td>False</td>\n",
       "      <td>1993</td>\n",
       "      <td>1315.97</td>\n",
       "    </tr>\n",
       "    <tr>\n",
       "      <th>1</th>\n",
       "      <td>0.25</td>\n",
       "      <td>442.08</td>\n",
       "      <td>5</td>\n",
       "      <td>False</td>\n",
       "      <td>False</td>\n",
       "      <td>False</td>\n",
       "      <td>False</td>\n",
       "      <td>True</td>\n",
       "      <td>False</td>\n",
       "      <td>False</td>\n",
       "      <td>...</td>\n",
       "      <td>False</td>\n",
       "      <td>False</td>\n",
       "      <td>False</td>\n",
       "      <td>False</td>\n",
       "      <td>False</td>\n",
       "      <td>False</td>\n",
       "      <td>False</td>\n",
       "      <td>True</td>\n",
       "      <td>1228</td>\n",
       "      <td>1510.92</td>\n",
       "    </tr>\n",
       "    <tr>\n",
       "      <th>2</th>\n",
       "      <td>0.25</td>\n",
       "      <td>717.17</td>\n",
       "      <td>0</td>\n",
       "      <td>False</td>\n",
       "      <td>False</td>\n",
       "      <td>False</td>\n",
       "      <td>True</td>\n",
       "      <td>False</td>\n",
       "      <td>False</td>\n",
       "      <td>False</td>\n",
       "      <td>...</td>\n",
       "      <td>False</td>\n",
       "      <td>False</td>\n",
       "      <td>False</td>\n",
       "      <td>False</td>\n",
       "      <td>False</td>\n",
       "      <td>False</td>\n",
       "      <td>True</td>\n",
       "      <td>False</td>\n",
       "      <td>2473</td>\n",
       "      <td>2059.21</td>\n",
       "    </tr>\n",
       "    <tr>\n",
       "      <th>3</th>\n",
       "      <td>0.11</td>\n",
       "      <td>334.56</td>\n",
       "      <td>4</td>\n",
       "      <td>False</td>\n",
       "      <td>False</td>\n",
       "      <td>False</td>\n",
       "      <td>True</td>\n",
       "      <td>False</td>\n",
       "      <td>False</td>\n",
       "      <td>False</td>\n",
       "      <td>...</td>\n",
       "      <td>False</td>\n",
       "      <td>False</td>\n",
       "      <td>False</td>\n",
       "      <td>False</td>\n",
       "      <td>False</td>\n",
       "      <td>False</td>\n",
       "      <td>False</td>\n",
       "      <td>True</td>\n",
       "      <td>2091</td>\n",
       "      <td>1806.68</td>\n",
       "    </tr>\n",
       "    <tr>\n",
       "      <th>4</th>\n",
       "      <td>0.27</td>\n",
       "      <td>604.50</td>\n",
       "      <td>2</td>\n",
       "      <td>True</td>\n",
       "      <td>False</td>\n",
       "      <td>False</td>\n",
       "      <td>False</td>\n",
       "      <td>False</td>\n",
       "      <td>False</td>\n",
       "      <td>False</td>\n",
       "      <td>...</td>\n",
       "      <td>False</td>\n",
       "      <td>False</td>\n",
       "      <td>False</td>\n",
       "      <td>False</td>\n",
       "      <td>True</td>\n",
       "      <td>False</td>\n",
       "      <td>False</td>\n",
       "      <td>False</td>\n",
       "      <td>2015</td>\n",
       "      <td>1919.16</td>\n",
       "    </tr>\n",
       "    <tr>\n",
       "      <th>5</th>\n",
       "      <td>0.10</td>\n",
       "      <td>399.90</td>\n",
       "      <td>6</td>\n",
       "      <td>True</td>\n",
       "      <td>False</td>\n",
       "      <td>False</td>\n",
       "      <td>False</td>\n",
       "      <td>False</td>\n",
       "      <td>False</td>\n",
       "      <td>False</td>\n",
       "      <td>...</td>\n",
       "      <td>True</td>\n",
       "      <td>False</td>\n",
       "      <td>False</td>\n",
       "      <td>False</td>\n",
       "      <td>False</td>\n",
       "      <td>False</td>\n",
       "      <td>False</td>\n",
       "      <td>True</td>\n",
       "      <td>930</td>\n",
       "      <td>1851.19</td>\n",
       "    </tr>\n",
       "    <tr>\n",
       "      <th>6</th>\n",
       "      <td>0.24</td>\n",
       "      <td>318.30</td>\n",
       "      <td>1</td>\n",
       "      <td>False</td>\n",
       "      <td>False</td>\n",
       "      <td>False</td>\n",
       "      <td>True</td>\n",
       "      <td>False</td>\n",
       "      <td>False</td>\n",
       "      <td>False</td>\n",
       "      <td>...</td>\n",
       "      <td>False</td>\n",
       "      <td>False</td>\n",
       "      <td>False</td>\n",
       "      <td>False</td>\n",
       "      <td>False</td>\n",
       "      <td>False</td>\n",
       "      <td>True</td>\n",
       "      <td>False</td>\n",
       "      <td>1061</td>\n",
       "      <td>1524.73</td>\n",
       "    </tr>\n",
       "    <tr>\n",
       "      <th>7</th>\n",
       "      <td>0.24</td>\n",
       "      <td>70.00</td>\n",
       "      <td>6</td>\n",
       "      <td>False</td>\n",
       "      <td>False</td>\n",
       "      <td>False</td>\n",
       "      <td>False</td>\n",
       "      <td>False</td>\n",
       "      <td>True</td>\n",
       "      <td>False</td>\n",
       "      <td>...</td>\n",
       "      <td>False</td>\n",
       "      <td>False</td>\n",
       "      <td>False</td>\n",
       "      <td>False</td>\n",
       "      <td>True</td>\n",
       "      <td>False</td>\n",
       "      <td>False</td>\n",
       "      <td>False</td>\n",
       "      <td>700</td>\n",
       "      <td>819.33</td>\n",
       "    </tr>\n",
       "    <tr>\n",
       "      <th>8</th>\n",
       "      <td>0.21</td>\n",
       "      <td>608.00</td>\n",
       "      <td>2</td>\n",
       "      <td>False</td>\n",
       "      <td>False</td>\n",
       "      <td>False</td>\n",
       "      <td>True</td>\n",
       "      <td>False</td>\n",
       "      <td>False</td>\n",
       "      <td>False</td>\n",
       "      <td>...</td>\n",
       "      <td>False</td>\n",
       "      <td>False</td>\n",
       "      <td>False</td>\n",
       "      <td>False</td>\n",
       "      <td>False</td>\n",
       "      <td>False</td>\n",
       "      <td>False</td>\n",
       "      <td>True</td>\n",
       "      <td>1520</td>\n",
       "      <td>1928.02</td>\n",
       "    </tr>\n",
       "    <tr>\n",
       "      <th>9</th>\n",
       "      <td>0.17</td>\n",
       "      <td>319.50</td>\n",
       "      <td>0</td>\n",
       "      <td>False</td>\n",
       "      <td>False</td>\n",
       "      <td>False</td>\n",
       "      <td>True</td>\n",
       "      <td>False</td>\n",
       "      <td>False</td>\n",
       "      <td>False</td>\n",
       "      <td>...</td>\n",
       "      <td>False</td>\n",
       "      <td>False</td>\n",
       "      <td>False</td>\n",
       "      <td>False</td>\n",
       "      <td>False</td>\n",
       "      <td>False</td>\n",
       "      <td>False</td>\n",
       "      <td>True</td>\n",
       "      <td>1278</td>\n",
       "      <td>1291.04</td>\n",
       "    </tr>\n",
       "  </tbody>\n",
       "</table>\n",
       "<p>10 rows × 60 columns</p>\n",
       "</div>"
      ],
      "text/plain": [
       "   discount  profit  order_dayofweek  category_Beverages  \\\n",
       "0      0.30  279.02                2               False   \n",
       "1      0.25  442.08                5               False   \n",
       "2      0.25  717.17                0               False   \n",
       "3      0.11  334.56                4               False   \n",
       "4      0.27  604.50                2                True   \n",
       "5      0.10  399.90                6                True   \n",
       "6      0.24  318.30                1               False   \n",
       "7      0.24   70.00                6               False   \n",
       "8      0.21  608.00                2               False   \n",
       "9      0.17  319.50                0               False   \n",
       "\n",
       "   category_Eggs, Meat & Fish  category_Food Grains  \\\n",
       "0                       False                 False   \n",
       "1                       False                 False   \n",
       "2                       False                 False   \n",
       "3                       False                 False   \n",
       "4                       False                 False   \n",
       "5                       False                 False   \n",
       "6                       False                 False   \n",
       "7                       False                 False   \n",
       "8                       False                 False   \n",
       "9                       False                 False   \n",
       "\n",
       "   category_Fruits & Veggies  category_Oil & Masala  category_Snacks  \\\n",
       "0                      False                  False            False   \n",
       "1                      False                   True            False   \n",
       "2                       True                  False            False   \n",
       "3                       True                  False            False   \n",
       "4                      False                  False            False   \n",
       "5                      False                  False            False   \n",
       "6                       True                  False            False   \n",
       "7                      False                  False             True   \n",
       "8                       True                  False            False   \n",
       "9                       True                  False            False   \n",
       "\n",
       "   sub_category_Biscuits  ...  city_Trichy  city_Vellore  city_Viluppuram  \\\n",
       "0                   True  ...        False         False            False   \n",
       "1                  False  ...        False         False            False   \n",
       "2                  False  ...        False         False            False   \n",
       "3                  False  ...        False         False            False   \n",
       "4                  False  ...        False         False            False   \n",
       "5                  False  ...         True         False            False   \n",
       "6                  False  ...        False         False            False   \n",
       "7                  False  ...        False         False            False   \n",
       "8                  False  ...        False         False            False   \n",
       "9                  False  ...        False         False            False   \n",
       "\n",
       "   city_Virudhunagar  region_East  region_North  region_South  region_West  \\\n",
       "0              False         True         False         False        False   \n",
       "1              False        False         False         False         True   \n",
       "2              False        False         False          True        False   \n",
       "3              False        False         False         False         True   \n",
       "4              False         True         False         False        False   \n",
       "5              False        False         False         False         True   \n",
       "6              False        False         False          True        False   \n",
       "7              False         True         False         False        False   \n",
       "8              False        False         False         False         True   \n",
       "9              False        False         False         False         True   \n",
       "\n",
       "   Actual Sales  Predicted Sales  \n",
       "0          1993          1315.97  \n",
       "1          1228          1510.92  \n",
       "2          2473          2059.21  \n",
       "3          2091          1806.68  \n",
       "4          2015          1919.16  \n",
       "5           930          1851.19  \n",
       "6          1061          1524.73  \n",
       "7           700           819.33  \n",
       "8          1520          1928.02  \n",
       "9          1278          1291.04  \n",
       "\n",
       "[10 rows x 60 columns]"
      ]
     },
     "execution_count": 26,
     "metadata": {},
     "output_type": "execute_result"
    }
   ],
   "source": [
    "X_test_reset = X_test.reset_index(drop=True)\n",
    "comparison = pd.concat([X_test_reset, results], axis=1)\n",
    "comparison.head(10)"
   ]
  },
  {
   "cell_type": "code",
   "execution_count": 27,
   "id": "80c9c607",
   "metadata": {},
   "outputs": [
    {
     "data": {
      "image/png": "[encoded data removed]",
      "text/plain": [
       "<Figure size 1000x500 with 1 Axes>"
      ]
     },
     "metadata": {},
     "output_type": "display_data"
    }
   ],
   "source": [
    "import matplotlib.pyplot as plt\n",
    "\n",
    "plt.figure(figsize=(10, 5))\n",
    "plt.plot(results['Actual Sales'].values[:100], label='Actual')\n",
    "plt.plot(results['Predicted Sales'].values[:100], label='Predicted')\n",
    "plt.title(\"Actual vs Predicted Sales (First 100 Records)\")\n",
    "plt.legend()\n",
    "plt.show()"
   ]
  },
  {
   "cell_type": "code",
   "execution_count": 28,
   "id": "9f17cb65",
   "metadata": {},
   "outputs": [],
   "source": [
    "results.to_csv(\"sales_predictions.csv\", index=False)"
   ]
  },
  {
   "cell_type": "code",
   "execution_count": 29,
   "id": "b2cca9be",
   "metadata": {},
   "outputs": [],
   "source": [
    "# Save original features before encoding\n",
    "df_features = df.drop(columns=['sales'])\n",
    "df_target = df['sales']\n",
    "\n",
    "# Encode the features\n",
    "X_encoded = pd.get_dummies(df_features, drop_first=True)\n",
    "\n",
    "# Train/test split on encoded\n",
    "X_train, X_test, y_train, y_test = train_test_split(X_encoded, df_target, test_size=0.2, random_state=42)\n",
    "\n",
    "# Also split original (non-encoded) data\n",
    "_, original_X_test = train_test_split(df_features, test_size=0.2, random_state=42)"
   ]
  },
  {
   "cell_type": "code",
   "execution_count": 34,
   "id": "9cc8fe64",
   "metadata": {},
   "outputs": [
    {
     "name": "stdout",
     "output_type": "stream",
     "text": [
      "<class 'pandas.core.series.Series'>\n",
      "int64\n"
     ]
    }
   ],
   "source": [
    "y = df['sales']  # must be a Series, not DataFrame\n",
    "print(type(y))   # should be <class 'pandas.core.series.Series'>\n",
    "print(y.dtype)"
   ]
  },
  {
   "cell_type": "code",
   "execution_count": 43,
   "id": "96f177a7",
   "metadata": {},
   "outputs": [],
   "source": [
    "y = df['sales']"
   ]
  },
  {
   "cell_type": "code",
   "execution_count": 36,
   "id": "d4387397",
   "metadata": {},
   "outputs": [
    {
     "name": "stdout",
     "output_type": "stream",
     "text": [
      "bool              55\n",
      "float64            2\n",
      "datetime64[ns]     1\n",
      "int32              1\n",
      "Name: count, dtype: int64\n"
     ]
    }
   ],
   "source": [
    "print(X_encoded.dtypes.value_counts())"
   ]
  },
  {
   "cell_type": "code",
   "execution_count": 37,
   "id": "751465e2",
   "metadata": {},
   "outputs": [
    {
     "data": {
      "text/html": [
       "<style>#sk-container-id-2 {color: black;}#sk-container-id-2 pre{padding: 0;}#sk-container-id-2 div.sk-toggleable {background-color: white;}#sk-container-id-2 label.sk-toggleable__label {cursor: pointer;display: block;width: 100%;margin-bottom: 0;padding: 0.3em;box-sizing: border-box;text-align: center;}#sk-container-id-2 label.sk-toggleable__label-arrow:before {content: \"▸\";float: left;margin-right: 0.25em;color: #696969;}#sk-container-id-2 label.sk-toggleable__label-arrow:hover:before {color: black;}#sk-container-id-2 div.sk-estimator:hover label.sk-toggleable__label-arrow:before {color: black;}#sk-container-id-2 div.sk-toggleable__content {max-height: 0;max-width: 0;overflow: hidden;text-align: left;background-color: #f0f8ff;}#sk-container-id-2 div.sk-toggleable__content pre {margin: 0.2em;color: black;border-radius: 0.25em;background-color: #f0f8ff;}#sk-container-id-2 input.sk-toggleable__control:checked~div.sk-toggleable__content {max-height: 200px;max-width: 100%;overflow: auto;}#sk-container-id-2 input.sk-toggleable__control:checked~label.sk-toggleable__label-arrow:before {content: \"▾\";}#sk-container-id-2 div.sk-estimator input.sk-toggleable__control:checked~label.sk-toggleable__label {background-color: #d4ebff;}#sk-container-id-2 div.sk-label input.sk-toggleable__control:checked~label.sk-toggleable__label {background-color: #d4ebff;}#sk-container-id-2 input.sk-hidden--visually {border: 0;clip: rect(1px 1px 1px 1px);clip: rect(1px, 1px, 1px, 1px);height: 1px;margin: -1px;overflow: hidden;padding: 0;position: absolute;width: 1px;}#sk-container-id-2 div.sk-estimator {font-family: monospace;background-color: #f0f8ff;border: 1px dotted black;border-radius: 0.25em;box-sizing: border-box;margin-bottom: 0.5em;}#sk-container-id-2 div.sk-estimator:hover {background-color: #d4ebff;}#sk-container-id-2 div.sk-parallel-item::after {content: \"\";width: 100%;border-bottom: 1px solid gray;flex-grow: 1;}#sk-container-id-2 div.sk-label:hover label.sk-toggleable__label {background-color: #d4ebff;}#sk-container-id-2 div.sk-serial::before {content: \"\";position: absolute;border-left: 1px solid gray;box-sizing: border-box;top: 0;bottom: 0;left: 50%;z-index: 0;}#sk-container-id-2 div.sk-serial {display: flex;flex-direction: column;align-items: center;background-color: white;padding-right: 0.2em;padding-left: 0.2em;position: relative;}#sk-container-id-2 div.sk-item {position: relative;z-index: 1;}#sk-container-id-2 div.sk-parallel {display: flex;align-items: stretch;justify-content: center;background-color: white;position: relative;}#sk-container-id-2 div.sk-item::before, #sk-container-id-2 div.sk-parallel-item::before {content: \"\";position: absolute;border-left: 1px solid gray;box-sizing: border-box;top: 0;bottom: 0;left: 50%;z-index: -1;}#sk-container-id-2 div.sk-parallel-item {display: flex;flex-direction: column;z-index: 1;position: relative;background-color: white;}#sk-container-id-2 div.sk-parallel-item:first-child::after {align-self: flex-end;width: 50%;}#sk-container-id-2 div.sk-parallel-item:last-child::after {align-self: flex-start;width: 50%;}#sk-container-id-2 div.sk-parallel-item:only-child::after {width: 0;}#sk-container-id-2 div.sk-dashed-wrapped {border: 1px dashed gray;margin: 0 0.4em 0.5em 0.4em;box-sizing: border-box;padding-bottom: 0.4em;background-color: white;}#sk-container-id-2 div.sk-label label {font-family: monospace;font-weight: bold;display: inline-block;line-height: 1.2em;}#sk-container-id-2 div.sk-label-container {text-align: center;}#sk-container-id-2 div.sk-container {/* jupyter's `normalize.less` sets `[hidden] { display: none; }` but bootstrap.min.css set `[hidden] { display: none !important; }` so we also need the `!important` here to be able to override the default hidden behavior on the sphinx rendered scikit-learn.org. See: https://github.com/scikit-learn/scikit-learn/issues/21755 */display: inline-block !important;position: relative;}#sk-container-id-2 div.sk-text-repr-fallback {display: none;}</style><div id=\"sk-container-id-2\" class=\"sk-top-container\"><div class=\"sk-text-repr-fallback\"><pre>RandomForestRegressor(random_state=42)</pre><b>In a Jupyter environment, please rerun this cell to show the HTML representation or trust the notebook. <br />On GitHub, the HTML representation is unable to render, please try loading this page with nbviewer.org.</b></div><div class=\"sk-container\" hidden><div class=\"sk-item\"><div class=\"sk-estimator sk-toggleable\"><input class=\"sk-toggleable__control sk-hidden--visually\" id=\"sk-estimator-id-2\" type=\"checkbox\" checked><label for=\"sk-estimator-id-2\" class=\"sk-toggleable__label sk-toggleable__label-arrow\">RandomForestRegressor</label><div class=\"sk-toggleable__content\"><pre>RandomForestRegressor(random_state=42)</pre></div></div></div></div></div>"
      ],
      "text/plain": [
       "RandomForestRegressor(random_state=42)"
      ]
     },
     "execution_count": 37,
     "metadata": {},
     "output_type": "execute_result"
    }
   ],
   "source": [
    "# 1. Drop datetime columns (e.g. 'order_date')\n",
    "df_features_cleaned = df_features.drop(columns=['order_date'], errors='ignore')\n",
    "\n",
    "# 2. Convert boolean columns to integers (0/1)\n",
    "bool_cols = df_features_cleaned.select_dtypes(include='bool').columns\n",
    "df_features_cleaned[bool_cols] = df_features_cleaned[bool_cols].astype(int)\n",
    "\n",
    "# 3. One-hot encode categorical columns\n",
    "X_encoded = pd.get_dummies(df_features_cleaned, drop_first=True)\n",
    "\n",
    "# 4. Ensure only numeric data\n",
    "X_encoded = X_encoded.select_dtypes(include=['int64', 'float64', 'uint8'])\n",
    "\n",
    "# 5. Define the target variable\n",
    "y = df['sales']\n",
    "\n",
    "# 6. Train/test split\n",
    "from sklearn.model_selection import train_test_split\n",
    "X_train, X_test, y_train, y_test = train_test_split(X_encoded, y, test_size=0.2, random_state=42)\n",
    "\n",
    "# 7. Train the model\n",
    "from sklearn.ensemble import RandomForestRegressor\n",
    "model = RandomForestRegressor(random_state=42)\n",
    "model.fit(X_train, y_train)\n"
   ]
  },
  {
   "cell_type": "code",
   "execution_count": 42,
   "id": "ceb72602",
   "metadata": {},
   "outputs": [],
   "source": [
    "y_pred = model.predict(X_test)"
   ]
  },
  {
   "cell_type": "code",
   "execution_count": 39,
   "id": "d1c8abc8",
   "metadata": {},
   "outputs": [],
   "source": [
    "import pandas as pd\n",
    "\n",
    "results = pd.DataFrame({\n",
    "    'Actual Sales': y_test.values,\n",
    "    'Predicted Sales': y_pred\n",
    "})"
   ]
  },
  {
   "cell_type": "code",
   "execution_count": 40,
   "id": "414862b8",
   "metadata": {},
   "outputs": [
    {
     "data": {
      "text/html": [
       "<div>\n",
       "<style scoped>\n",
       "    .dataframe tbody tr th:only-of-type {\n",
       "        vertical-align: middle;\n",
       "    }\n",
       "\n",
       "    .dataframe tbody tr th {\n",
       "        vertical-align: top;\n",
       "    }\n",
       "\n",
       "    .dataframe thead th {\n",
       "        text-align: right;\n",
       "    }\n",
       "</style>\n",
       "<table border=\"1\" class=\"dataframe\">\n",
       "  <thead>\n",
       "    <tr style=\"text-align: right;\">\n",
       "      <th></th>\n",
       "      <th>order_date</th>\n",
       "      <th>discount</th>\n",
       "      <th>profit</th>\n",
       "      <th>order_dayofweek</th>\n",
       "      <th>category_Beverages</th>\n",
       "      <th>category_Eggs, Meat &amp; Fish</th>\n",
       "      <th>category_Food Grains</th>\n",
       "      <th>category_Fruits &amp; Veggies</th>\n",
       "      <th>category_Oil &amp; Masala</th>\n",
       "      <th>category_Snacks</th>\n",
       "      <th>...</th>\n",
       "      <th>city_Trichy</th>\n",
       "      <th>city_Vellore</th>\n",
       "      <th>city_Viluppuram</th>\n",
       "      <th>city_Virudhunagar</th>\n",
       "      <th>region_East</th>\n",
       "      <th>region_North</th>\n",
       "      <th>region_South</th>\n",
       "      <th>region_West</th>\n",
       "      <th>Actual Sales</th>\n",
       "      <th>Predicted Sales</th>\n",
       "    </tr>\n",
       "  </thead>\n",
       "  <tbody>\n",
       "    <tr>\n",
       "      <th>0</th>\n",
       "      <td>2016-05-04</td>\n",
       "      <td>0.30</td>\n",
       "      <td>279.02</td>\n",
       "      <td>2</td>\n",
       "      <td>False</td>\n",
       "      <td>False</td>\n",
       "      <td>False</td>\n",
       "      <td>False</td>\n",
       "      <td>False</td>\n",
       "      <td>False</td>\n",
       "      <td>...</td>\n",
       "      <td>False</td>\n",
       "      <td>False</td>\n",
       "      <td>False</td>\n",
       "      <td>False</td>\n",
       "      <td>True</td>\n",
       "      <td>False</td>\n",
       "      <td>False</td>\n",
       "      <td>False</td>\n",
       "      <td>1993</td>\n",
       "      <td>1382.58</td>\n",
       "    </tr>\n",
       "    <tr>\n",
       "      <th>1</th>\n",
       "      <td>2016-01-09</td>\n",
       "      <td>0.25</td>\n",
       "      <td>442.08</td>\n",
       "      <td>5</td>\n",
       "      <td>False</td>\n",
       "      <td>False</td>\n",
       "      <td>False</td>\n",
       "      <td>False</td>\n",
       "      <td>True</td>\n",
       "      <td>False</td>\n",
       "      <td>...</td>\n",
       "      <td>False</td>\n",
       "      <td>False</td>\n",
       "      <td>False</td>\n",
       "      <td>False</td>\n",
       "      <td>False</td>\n",
       "      <td>False</td>\n",
       "      <td>False</td>\n",
       "      <td>True</td>\n",
       "      <td>1228</td>\n",
       "      <td>1534.19</td>\n",
       "    </tr>\n",
       "    <tr>\n",
       "      <th>2</th>\n",
       "      <td>2017-08-07</td>\n",
       "      <td>0.25</td>\n",
       "      <td>717.17</td>\n",
       "      <td>0</td>\n",
       "      <td>False</td>\n",
       "      <td>False</td>\n",
       "      <td>False</td>\n",
       "      <td>True</td>\n",
       "      <td>False</td>\n",
       "      <td>False</td>\n",
       "      <td>...</td>\n",
       "      <td>False</td>\n",
       "      <td>False</td>\n",
       "      <td>False</td>\n",
       "      <td>False</td>\n",
       "      <td>False</td>\n",
       "      <td>False</td>\n",
       "      <td>True</td>\n",
       "      <td>False</td>\n",
       "      <td>2473</td>\n",
       "      <td>1830.88</td>\n",
       "    </tr>\n",
       "    <tr>\n",
       "      <th>3</th>\n",
       "      <td>2018-02-02</td>\n",
       "      <td>0.11</td>\n",
       "      <td>334.56</td>\n",
       "      <td>4</td>\n",
       "      <td>False</td>\n",
       "      <td>False</td>\n",
       "      <td>False</td>\n",
       "      <td>True</td>\n",
       "      <td>False</td>\n",
       "      <td>False</td>\n",
       "      <td>...</td>\n",
       "      <td>False</td>\n",
       "      <td>False</td>\n",
       "      <td>False</td>\n",
       "      <td>False</td>\n",
       "      <td>False</td>\n",
       "      <td>False</td>\n",
       "      <td>False</td>\n",
       "      <td>True</td>\n",
       "      <td>2091</td>\n",
       "      <td>1634.70</td>\n",
       "    </tr>\n",
       "    <tr>\n",
       "      <th>4</th>\n",
       "      <td>2016-11-09</td>\n",
       "      <td>0.27</td>\n",
       "      <td>604.50</td>\n",
       "      <td>2</td>\n",
       "      <td>True</td>\n",
       "      <td>False</td>\n",
       "      <td>False</td>\n",
       "      <td>False</td>\n",
       "      <td>False</td>\n",
       "      <td>False</td>\n",
       "      <td>...</td>\n",
       "      <td>False</td>\n",
       "      <td>False</td>\n",
       "      <td>False</td>\n",
       "      <td>False</td>\n",
       "      <td>True</td>\n",
       "      <td>False</td>\n",
       "      <td>False</td>\n",
       "      <td>False</td>\n",
       "      <td>2015</td>\n",
       "      <td>1664.18</td>\n",
       "    </tr>\n",
       "  </tbody>\n",
       "</table>\n",
       "<p>5 rows × 61 columns</p>\n",
       "</div>"
      ],
      "text/plain": [
       "  order_date  discount  profit  order_dayofweek  category_Beverages  \\\n",
       "0 2016-05-04      0.30  279.02                2               False   \n",
       "1 2016-01-09      0.25  442.08                5               False   \n",
       "2 2017-08-07      0.25  717.17                0               False   \n",
       "3 2018-02-02      0.11  334.56                4               False   \n",
       "4 2016-11-09      0.27  604.50                2                True   \n",
       "\n",
       "   category_Eggs, Meat & Fish  category_Food Grains  \\\n",
       "0                       False                 False   \n",
       "1                       False                 False   \n",
       "2                       False                 False   \n",
       "3                       False                 False   \n",
       "4                       False                 False   \n",
       "\n",
       "   category_Fruits & Veggies  category_Oil & Masala  category_Snacks  ...  \\\n",
       "0                      False                  False            False  ...   \n",
       "1                      False                   True            False  ...   \n",
       "2                       True                  False            False  ...   \n",
       "3                       True                  False            False  ...   \n",
       "4                      False                  False            False  ...   \n",
       "\n",
       "   city_Trichy  city_Vellore  city_Viluppuram  city_Virudhunagar  region_East  \\\n",
       "0        False         False            False              False         True   \n",
       "1        False         False            False              False        False   \n",
       "2        False         False            False              False        False   \n",
       "3        False         False            False              False        False   \n",
       "4        False         False            False              False         True   \n",
       "\n",
       "   region_North  region_South  region_West  Actual Sales  Predicted Sales  \n",
       "0         False         False        False          1993          1382.58  \n",
       "1         False         False         True          1228          1534.19  \n",
       "2         False          True        False          2473          1830.88  \n",
       "3         False         False         True          2091          1634.70  \n",
       "4         False         False        False          2015          1664.18  \n",
       "\n",
       "[5 rows x 61 columns]"
      ]
     },
     "execution_count": 40,
     "metadata": {},
     "output_type": "execute_result"
    }
   ],
   "source": [
    "# Split original (non-encoded) features to align with test set\n",
    "_, original_X_test = train_test_split(df_features, test_size=0.2, random_state=42)\n",
    "\n",
    "# Combine original test features with results\n",
    "full_results = pd.concat([original_X_test.reset_index(drop=True), results], axis=1)\n",
    "\n",
    "full_results.head()"
   ]
  },
  {
   "cell_type": "code",
   "execution_count": 46,
   "id": "c2fdc597",
   "metadata": {},
   "outputs": [
    {
     "name": "stdout",
     "output_type": "stream",
     "text": [
      "['order_date', 'sales', 'discount', 'profit', 'order_dayofweek', 'category_Beverages', 'category_Eggs, Meat & Fish', 'category_Food Grains', 'category_Fruits & Veggies', 'category_Oil & Masala', 'category_Snacks', 'sub_category_Biscuits', 'sub_category_Breads & Buns', 'sub_category_Cakes', 'sub_category_Chicken', 'sub_category_Chocolates', 'sub_category_Cookies', 'sub_category_Dals & Pulses', 'sub_category_Edible Oil & Ghee', 'sub_category_Eggs', 'sub_category_Fish', 'sub_category_Fresh Fruits', 'sub_category_Fresh Vegetables', 'sub_category_Health Drinks', 'sub_category_Masalas', 'sub_category_Mutton', 'sub_category_Noodles', 'sub_category_Organic Fruits', 'sub_category_Organic Staples', 'sub_category_Organic Vegetables', 'sub_category_Rice', 'sub_category_Soft Drinks', 'sub_category_Spices', 'city_Chennai', 'city_Coimbatore', 'city_Cumbum', 'city_Dharmapuri', 'city_Dindigul', 'city_Kanyakumari', 'city_Karur', 'city_Krishnagiri', 'city_Madurai', 'city_Nagercoil', 'city_Namakkal', 'city_Ooty', 'city_Perambalur', 'city_Pudukottai', 'city_Ramanadhapuram', 'city_Salem', 'city_Tenkasi', 'city_Theni', 'city_Tirunelveli', 'city_Trichy', 'city_Vellore', 'city_Viluppuram', 'city_Virudhunagar', 'region_East', 'region_North', 'region_South', 'region_West']\n"
     ]
    }
   ],
   "source": [
    "print(df.columns.tolist())"
   ]
  },
  {
   "cell_type": "code",
   "execution_count": null,
   "id": "a7dc5e8e",
   "metadata": {},
   "outputs": [],
   "source": []
  }
 ],
 "metadata": {
  "kernelspec": {
   "display_name": "Python 3 (ipykernel)",
   "language": "python",
   "name": "python3"
  },
  "language_info": {
   "codemirror_mode": {
    "name": "ipython",
    "version": 3
   },
   "file_extension": ".py",
   "mimetype": "text/x-python",
   "name": "python",
   "nbconvert_exporter": "python",
   "pygments_lexer": "ipython3",
   "version": "3.11.5"
  }
 },
 "nbformat": 4,
 "nbformat_minor": 5
}
